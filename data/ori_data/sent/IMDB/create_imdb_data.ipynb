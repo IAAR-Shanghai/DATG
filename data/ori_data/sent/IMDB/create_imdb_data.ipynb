{
 "cells": [
  {
   "cell_type": "code",
   "execution_count": null,
   "metadata": {},
   "outputs": [],
   "source": [
    "import pandas as pd\n",
    "\n",
    "# Configuration for dataset path, output path, and seed value\n",
    "CONFIG = {\n",
    "    \"dataset_path\": \"IMDB Dataset.csv\",\n",
    "    \"output_path\": \"../../../internal_classifier_data/sentiment/IMDB.json\",\n",
    "    \"seed\": 42\n",
    "}\n",
    "\n",
    "def load_and_preprocess_data(config):\n",
    "    \"\"\"\n",
    "    Load the IMDB dataset, preprocess, and balance the number of positive and negative samples.\n",
    "    \n",
    "    Args:\n",
    "        config (dict): A dictionary containing the dataset path, output path, and random seed for configuration.\n",
    "    \n",
    "    Returns:\n",
    "        DataFrame: The preprocessed and balanced dataset.\n",
    "    \"\"\"\n",
    "    # Load the dataset\n",
    "    df_train = pd.read_csv(config[\"dataset_path\"])\n",
    "    df_train = df_train[[\"review\", \"sentiment\"]]\n",
    "\n",
    "    # Separate positive and negative reviews\n",
    "    df_positive = df_train[df_train['sentiment'] == \"positive\"]\n",
    "    df_negative = df_train[df_train['sentiment'] == \"negative\"]\n",
    "\n",
    "    # Calculate the sample count for each category and select the smaller count\n",
    "    min_count = min(len(df_positive), len(df_negative))\n",
    "\n",
    "    # Randomly select 'min_count' samples from each dataframe\n",
    "    df_positive_sampled = df_positive.sample(n=min_count, random_state=config[\"seed\"])\n",
    "    df_negative_sampled = df_negative.sample(n=min_count, random_state=config[\"seed\"])\n",
    "\n",
    "    # Merge samples and reshuffle\n",
    "    df_balanced = pd.concat([df_positive_sampled, df_negative_sampled]).sample(frac=1, random_state=config[\"seed\"])\n",
    "\n",
    "    # Replace 'sentiment' column values to numeric types\n",
    "    df_balanced['sentiment'] = df_balanced['sentiment'].replace({'positive': 1, 'negative': 0})\n",
    "\n",
    "    # Rename columns to more clearly reflect content\n",
    "    df_balanced = df_balanced.rename(columns={'review': 'text', 'sentiment': 'label'})\n",
    "\n",
    "    return df_balanced"
   ]
  },
  {
   "cell_type": "code",
   "execution_count": null,
   "metadata": {},
   "outputs": [],
   "source": [
    "def save_to_json(df, config):\n",
    "    \"\"\"\n",
    "    Save DataFrame to a JSON file.\n",
    "\n",
    "    Args:\n",
    "        df (DataFrame): The DataFrame to save.\n",
    "        config (dict): A configuration dictionary containing the output path.\n",
    "    \"\"\"\n",
    "    df.to_json(config[\"output_path\"], orient='records', lines=True, force_ascii=False)"
   ]
  },
  {
   "cell_type": "code",
   "execution_count": null,
   "metadata": {},
   "outputs": [],
   "source": [
    "config = CONFIG\n",
    "df_preprocessed = load_and_preprocess_data(config)\n",
    "df_preprocessed"
   ]
  },
  {
   "cell_type": "code",
   "execution_count": null,
   "metadata": {},
   "outputs": [],
   "source": [
    "save_to_json(df_preprocessed, config)\n",
    "print(\"Data processing complete, saved to JSON.\")"
   ]
  }
 ],
 "metadata": {
  "kernelspec": {
   "display_name": "model_ctg",
   "language": "python",
   "name": "python3"
  },
  "language_info": {
   "codemirror_mode": {
    "name": "ipython",
    "version": 3
   },
   "file_extension": ".py",
   "mimetype": "text/x-python",
   "name": "python",
   "nbconvert_exporter": "python",
   "pygments_lexer": "ipython3",
   "version": "3.8.18"
  }
 },
 "nbformat": 4,
 "nbformat_minor": 2
}
